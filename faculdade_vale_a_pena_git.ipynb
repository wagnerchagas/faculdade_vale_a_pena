{
 "cells": [
  {
   "cell_type": "code",
   "execution_count": 1,
   "id": "ee31a1e9-c547-40e3-90a4-7fcc424f3405",
   "metadata": {
    "tags": []
   },
   "outputs": [
    {
     "name": "stderr",
     "output_type": "stream",
     "text": [
      "C:\\Users\\Lord-\\miniconda3\\envs\\ds-general\\lib\\site-packages\\pandas\\core\\computation\\expressions.py:21: UserWarning: Pandas requires version '2.8.0' or newer of 'numexpr' (version '2.7.3' currently installed).\n",
      "  from pandas.core.computation.check import NUMEXPR_INSTALLED\n"
     ]
    }
   ],
   "source": [
    "import pandas as pd\n",
    "import plotly.express as px\n",
    "import numpy as np\n",
    "import matplotlib.pyplot as plt\n",
    "from matplotlib.ticker import FuncFormatter\n",
    "from matplotlib.offsetbox import OffsetImage, AnnotationBbox\n",
    "import matplotlib.image as mpimg\n",
    "import basedosdados as bd"
   ]
  },
  {
   "cell_type": "code",
   "execution_count": 2,
   "id": "f9fcab5c-2677-49d2-b732-fb1f27f0bc45",
   "metadata": {
    "tags": []
   },
   "outputs": [],
   "source": [
    "import scipy"
   ]
  },
  {
   "cell_type": "code",
   "execution_count": 32,
   "id": "486d8cae-4c1b-4a9a-8a3e-b11c2eeeac2f",
   "metadata": {
    "tags": []
   },
   "outputs": [],
   "source": [
    "my_project_id = '######' #cadastrar um billing id no base dos dados: https://basedosdados.org/"
   ]
  },
  {
   "cell_type": "code",
   "execution_count": null,
   "id": "4ae2335c-ad3d-43f0-b5d2-b0011d1800fa",
   "metadata": {
    "tags": []
   },
   "outputs": [],
   "source": [
    "dic_rais = bd.read_sql(\n",
    "    query = \"\"\"SELECT *\n",
    "                  FROM `basedosdados.br_me_rais.dicionario`\n",
    "                  \"\"\",\n",
    "                  billing_project_id=my_project_id)"
   ]
  },
  {
   "cell_type": "code",
   "execution_count": 7,
   "id": "49221667-c20a-4468-a200-b82f40ee4c72",
   "metadata": {
    "tags": []
   },
   "outputs": [
    {
     "data": {
      "text/plain": [
       "array(['sexo', 'raca_cor', 'bairros_rj', 'bairros_sp', 'distritos_sp',\n",
       "       'faixa_etaria', 'tipo_salario', 'tipo_vinculo', 'nacionalidade',\n",
       "       'subsetor_ibge', 'tipo_admissao', 'tipo_deficiencia',\n",
       "       'bairros_fortaleza', 'indicador_simples', 'subatividade_ibge',\n",
       "       'vinculo_ativo_3112', 'faixa_tempo_emprego', 'motivo_desligamento',\n",
       "       'causa_desligamento_1', 'causa_desligamento_2',\n",
       "       'causa_desligamento_3', 'tipo_estabelecimento',\n",
       "       'faixa_horas_contratadas', 'indicador_cei_vinculado',\n",
       "       'tamanho_estabelecimento', 'grau_instrucao_1985_2005',\n",
       "       'grau_instrucao_apos_2005', 'natureza_estabelecimento',\n",
       "       'faixa_remuneracao_media_sm', 'indicador_trabalho_parcial',\n",
       "       'regioes_administrativas_df', 'faixa_remuneracao_dezembro_sm',\n",
       "       'indicador_portador_deficiencia',\n",
       "       'indicador_trabalho_intermitente'], dtype=object)"
      ]
     },
     "execution_count": 7,
     "metadata": {},
     "output_type": "execute_result"
    }
   ],
   "source": [
    "dic_rais['nome_coluna'].unique()"
   ]
  },
  {
   "cell_type": "code",
   "execution_count": 8,
   "id": "a648643a-57cf-446c-848c-9e035c70b869",
   "metadata": {
    "tags": []
   },
   "outputs": [],
   "source": [
    "tab_grau_instrucao = dic_rais[dic_rais['nome_coluna'] == 'grau_instrucao_apos_2005']"
   ]
  },
  {
   "cell_type": "code",
   "execution_count": 9,
   "id": "e74b59bb-0181-4ed7-84b4-6eb6f4ea3b82",
   "metadata": {
    "tags": []
   },
   "outputs": [
    {
     "data": {
      "text/html": [
       "<div>\n",
       "<style scoped>\n",
       "    .dataframe tbody tr th:only-of-type {\n",
       "        vertical-align: middle;\n",
       "    }\n",
       "\n",
       "    .dataframe tbody tr th {\n",
       "        vertical-align: top;\n",
       "    }\n",
       "\n",
       "    .dataframe thead th {\n",
       "        text-align: right;\n",
       "    }\n",
       "</style>\n",
       "<table border=\"1\" class=\"dataframe\">\n",
       "  <thead>\n",
       "    <tr style=\"text-align: right;\">\n",
       "      <th></th>\n",
       "      <th>id_tabela</th>\n",
       "      <th>nome_coluna</th>\n",
       "      <th>chave</th>\n",
       "      <th>cobertura_temporal</th>\n",
       "      <th>valor</th>\n",
       "    </tr>\n",
       "  </thead>\n",
       "  <tbody>\n",
       "    <tr>\n",
       "      <th>5273</th>\n",
       "      <td>microdados_vinculos</td>\n",
       "      <td>grau_instrucao_apos_2005</td>\n",
       "      <td>9</td>\n",
       "      <td>2005(1)</td>\n",
       "      <td>SUP. COMP</td>\n",
       "    </tr>\n",
       "  </tbody>\n",
       "</table>\n",
       "</div>"
      ],
      "text/plain": [
       "                id_tabela               nome_coluna chave cobertura_temporal  \\\n",
       "5273  microdados_vinculos  grau_instrucao_apos_2005     9            2005(1)   \n",
       "\n",
       "          valor  \n",
       "5273  SUP. COMP  "
      ]
     },
     "execution_count": 9,
     "metadata": {},
     "output_type": "execute_result"
    }
   ],
   "source": [
    "tab_grau_instrucao.head(1)"
   ]
  },
  {
   "cell_type": "code",
   "execution_count": 10,
   "id": "384c731f-94bf-4634-b806-6b5e3b46050c",
   "metadata": {
    "tags": []
   },
   "outputs": [
    {
     "name": "stderr",
     "output_type": "stream",
     "text": [
      "Downloading: 100%|███████████████████████████████████████████████████████████████████| 11/11 [00:00<00:00, 27.83rows/s]\n"
     ]
    }
   ],
   "source": [
    "df = bd.read_sql(\n",
    "          query = \"\"\"WITH\n",
    "        data_cte AS (\n",
    "          SELECT\n",
    "            grau_instrucao_apos_2005,\n",
    "            valor_remuneracao_dezembro,\n",
    "            NTILE(4) OVER (PARTITION BY grau_instrucao_apos_2005 ORDER BY valor_remuneracao_dezembro) AS quartile\n",
    "          FROM\n",
    "            basedosdados.br_me_rais.microdados_vinculos\n",
    "          WHERE valor_remuneracao_dezembro >= 1200\n",
    "            AND vinculo_ativo_3112 = 1\n",
    "            AND ano = 2022\n",
    "            AND quantidade_horas_contratadas >= 35\n",
    "        ),\n",
    "        quartiles AS (\n",
    "          SELECT\n",
    "            grau_instrucao_apos_2005,\n",
    "            MIN(valor_remuneracao_dezembro) AS min_value,\n",
    "            MAX(valor_remuneracao_dezembro) AS max_value,\n",
    "            MAX(CASE WHEN quartile = 1 THEN valor_remuneracao_dezembro END) AS Q1,\n",
    "            MAX(CASE WHEN quartile = 2 THEN valor_remuneracao_dezembro END) AS median,\n",
    "            MAX(CASE WHEN quartile = 3 THEN valor_remuneracao_dezembro END) AS Q3\n",
    "          FROM\n",
    "            data_cte\n",
    "          GROUP BY\n",
    "            grau_instrucao_apos_2005\n",
    "        ),\n",
    "        iqr_calc AS (\n",
    "          SELECT\n",
    "            grau_instrucao_apos_2005,\n",
    "            Q1,\n",
    "            median,\n",
    "            Q3,\n",
    "            Q3 - Q1 AS IQR,\n",
    "            MIN(min_value) AS min_value,\n",
    "            MAX(max_value) AS max_value\n",
    "          FROM\n",
    "            quartiles\n",
    "          GROUP BY\n",
    "            grau_instrucao_apos_2005, Q1, median, Q3\n",
    "        )\n",
    "      SELECT\n",
    "        grau_instrucao_apos_2005,\n",
    "        min_value,\n",
    "        Q1,\n",
    "        median,\n",
    "        Q3,\n",
    "        max_value,\n",
    "        IQR,\n",
    "        Q1 - 1.5 * IQR AS lower_whisker,\n",
    "        Q3 + 1.5 * IQR AS upper_whisker\n",
    "      FROM\n",
    "        iqr_calc;\n",
    "                  \"\"\",\n",
    "                                  billing_project_id=my_project_id)"
   ]
  },
  {
   "cell_type": "code",
   "execution_count": 14,
   "id": "e973350c-2d9d-4b14-b55a-5244474159e2",
   "metadata": {
    "tags": []
   },
   "outputs": [
    {
     "data": {
      "text/html": [
       "<div>\n",
       "<style scoped>\n",
       "    .dataframe tbody tr th:only-of-type {\n",
       "        vertical-align: middle;\n",
       "    }\n",
       "\n",
       "    .dataframe tbody tr th {\n",
       "        vertical-align: top;\n",
       "    }\n",
       "\n",
       "    .dataframe thead th {\n",
       "        text-align: right;\n",
       "    }\n",
       "</style>\n",
       "<table border=\"1\" class=\"dataframe\">\n",
       "  <thead>\n",
       "    <tr style=\"text-align: right;\">\n",
       "      <th></th>\n",
       "      <th>grau_instrucao_apos_2005</th>\n",
       "      <th>min_value</th>\n",
       "      <th>Q1</th>\n",
       "      <th>median</th>\n",
       "      <th>Q3</th>\n",
       "      <th>max_value</th>\n",
       "      <th>IQR</th>\n",
       "      <th>lower_whisker</th>\n",
       "      <th>upper_whisker</th>\n",
       "    </tr>\n",
       "  </thead>\n",
       "  <tbody>\n",
       "    <tr>\n",
       "      <th>0</th>\n",
       "      <td>8</td>\n",
       "      <td>1200.0</td>\n",
       "      <td>1894.00</td>\n",
       "      <td>2739.45</td>\n",
       "      <td>4528.54</td>\n",
       "      <td>181558.00</td>\n",
       "      <td>2634.54</td>\n",
       "      <td>-2057.810</td>\n",
       "      <td>8480.350</td>\n",
       "    </tr>\n",
       "    <tr>\n",
       "      <th>1</th>\n",
       "      <td>2</td>\n",
       "      <td>1200.0</td>\n",
       "      <td>1532.44</td>\n",
       "      <td>1967.32</td>\n",
       "      <td>2634.69</td>\n",
       "      <td>140000.00</td>\n",
       "      <td>1102.25</td>\n",
       "      <td>-120.935</td>\n",
       "      <td>4288.065</td>\n",
       "    </tr>\n",
       "    <tr>\n",
       "      <th>2</th>\n",
       "      <td>9</td>\n",
       "      <td>1200.0</td>\n",
       "      <td>3102.72</td>\n",
       "      <td>5375.62</td>\n",
       "      <td>9738.56</td>\n",
       "      <td>181809.79</td>\n",
       "      <td>6635.84</td>\n",
       "      <td>-6851.040</td>\n",
       "      <td>19692.320</td>\n",
       "    </tr>\n",
       "    <tr>\n",
       "      <th>3</th>\n",
       "      <td>7</td>\n",
       "      <td>1200.0</td>\n",
       "      <td>1600.72</td>\n",
       "      <td>2062.00</td>\n",
       "      <td>2959.76</td>\n",
       "      <td>181235.00</td>\n",
       "      <td>1359.04</td>\n",
       "      <td>-437.840</td>\n",
       "      <td>4998.320</td>\n",
       "    </tr>\n",
       "    <tr>\n",
       "      <th>4</th>\n",
       "      <td>3</td>\n",
       "      <td>1200.0</td>\n",
       "      <td>1600.00</td>\n",
       "      <td>2072.40</td>\n",
       "      <td>2848.00</td>\n",
       "      <td>170020.17</td>\n",
       "      <td>1248.00</td>\n",
       "      <td>-272.000</td>\n",
       "      <td>4720.000</td>\n",
       "    </tr>\n",
       "  </tbody>\n",
       "</table>\n",
       "</div>"
      ],
      "text/plain": [
       "  grau_instrucao_apos_2005  min_value       Q1   median       Q3  max_value  \\\n",
       "0                        8     1200.0  1894.00  2739.45  4528.54  181558.00   \n",
       "1                        2     1200.0  1532.44  1967.32  2634.69  140000.00   \n",
       "2                        9     1200.0  3102.72  5375.62  9738.56  181809.79   \n",
       "3                        7     1200.0  1600.72  2062.00  2959.76  181235.00   \n",
       "4                        3     1200.0  1600.00  2072.40  2848.00  170020.17   \n",
       "\n",
       "       IQR  lower_whisker  upper_whisker  \n",
       "0  2634.54      -2057.810       8480.350  \n",
       "1  1102.25       -120.935       4288.065  \n",
       "2  6635.84      -6851.040      19692.320  \n",
       "3  1359.04       -437.840       4998.320  \n",
       "4  1248.00       -272.000       4720.000  "
      ]
     },
     "execution_count": 14,
     "metadata": {},
     "output_type": "execute_result"
    }
   ],
   "source": [
    "df.head()"
   ]
  },
  {
   "cell_type": "code",
   "execution_count": 17,
   "id": "6c8b4ba8-7b79-412b-a53e-a2e6355abbde",
   "metadata": {
    "tags": []
   },
   "outputs": [
    {
     "data": {
      "text/plain": [
       "(dtype('O'), dtype('int32'))"
      ]
     },
     "execution_count": 17,
     "metadata": {},
     "output_type": "execute_result"
    }
   ],
   "source": [
    "df['grau_instrucao_apos_2005'].dtype, tab_grau_instrucao['chave'].dtype"
   ]
  },
  {
   "cell_type": "code",
   "execution_count": 18,
   "id": "12c1a80d-d9ff-4ecf-819f-7cbeedb0abb3",
   "metadata": {
    "tags": []
   },
   "outputs": [],
   "source": [
    "tab_grau_instrucao['chave'] = tab_grau_instrucao['chave'].astype(str)"
   ]
  },
  {
   "cell_type": "code",
   "execution_count": 19,
   "id": "228335ea-9b8d-4cce-9d9f-ebdc9419ca38",
   "metadata": {
    "tags": []
   },
   "outputs": [],
   "source": [
    "df = df.merge(tab_grau_instrucao[['chave', 'valor']],\n",
    "             how='left',\n",
    "             left_on = 'grau_instrucao_apos_2005',\n",
    "             right_on = 'chave')"
   ]
  },
  {
   "cell_type": "code",
   "execution_count": 20,
   "id": "0651f757-ba6f-4540-9043-a5497af3d8bb",
   "metadata": {
    "tags": []
   },
   "outputs": [],
   "source": [
    "df.rename(columns={'valor':'grau_instrucao'}, inplace=True)"
   ]
  },
  {
   "cell_type": "code",
   "execution_count": 21,
   "id": "be422dc4-5911-4272-83ed-0eeb5ae647c9",
   "metadata": {
    "tags": []
   },
   "outputs": [
    {
     "data": {
      "text/html": [
       "<div>\n",
       "<style scoped>\n",
       "    .dataframe tbody tr th:only-of-type {\n",
       "        vertical-align: middle;\n",
       "    }\n",
       "\n",
       "    .dataframe tbody tr th {\n",
       "        vertical-align: top;\n",
       "    }\n",
       "\n",
       "    .dataframe thead th {\n",
       "        text-align: right;\n",
       "    }\n",
       "</style>\n",
       "<table border=\"1\" class=\"dataframe\">\n",
       "  <thead>\n",
       "    <tr style=\"text-align: right;\">\n",
       "      <th></th>\n",
       "      <th>grau_instrucao_apos_2005</th>\n",
       "      <th>min_value</th>\n",
       "      <th>Q1</th>\n",
       "      <th>median</th>\n",
       "      <th>Q3</th>\n",
       "      <th>max_value</th>\n",
       "      <th>IQR</th>\n",
       "      <th>lower_whisker</th>\n",
       "      <th>upper_whisker</th>\n",
       "      <th>chave</th>\n",
       "      <th>grau_instrucao</th>\n",
       "    </tr>\n",
       "  </thead>\n",
       "  <tbody>\n",
       "    <tr>\n",
       "      <th>0</th>\n",
       "      <td>8</td>\n",
       "      <td>1200.0</td>\n",
       "      <td>1894.00</td>\n",
       "      <td>2739.45</td>\n",
       "      <td>4528.54</td>\n",
       "      <td>181558.00</td>\n",
       "      <td>2634.54</td>\n",
       "      <td>-2057.810</td>\n",
       "      <td>8480.350</td>\n",
       "      <td>8</td>\n",
       "      <td>SUP. INCOMP</td>\n",
       "    </tr>\n",
       "    <tr>\n",
       "      <th>1</th>\n",
       "      <td>2</td>\n",
       "      <td>1200.0</td>\n",
       "      <td>1532.44</td>\n",
       "      <td>1967.32</td>\n",
       "      <td>2634.69</td>\n",
       "      <td>140000.00</td>\n",
       "      <td>1102.25</td>\n",
       "      <td>-120.935</td>\n",
       "      <td>4288.065</td>\n",
       "      <td>2</td>\n",
       "      <td>ATE 5.A INC</td>\n",
       "    </tr>\n",
       "    <tr>\n",
       "      <th>2</th>\n",
       "      <td>9</td>\n",
       "      <td>1200.0</td>\n",
       "      <td>3102.72</td>\n",
       "      <td>5375.62</td>\n",
       "      <td>9738.56</td>\n",
       "      <td>181809.79</td>\n",
       "      <td>6635.84</td>\n",
       "      <td>-6851.040</td>\n",
       "      <td>19692.320</td>\n",
       "      <td>9</td>\n",
       "      <td>SUP. COMP</td>\n",
       "    </tr>\n",
       "  </tbody>\n",
       "</table>\n",
       "</div>"
      ],
      "text/plain": [
       "  grau_instrucao_apos_2005  min_value       Q1   median       Q3  max_value  \\\n",
       "0                        8     1200.0  1894.00  2739.45  4528.54  181558.00   \n",
       "1                        2     1200.0  1532.44  1967.32  2634.69  140000.00   \n",
       "2                        9     1200.0  3102.72  5375.62  9738.56  181809.79   \n",
       "\n",
       "       IQR  lower_whisker  upper_whisker chave grau_instrucao  \n",
       "0  2634.54      -2057.810       8480.350     8    SUP. INCOMP  \n",
       "1  1102.25       -120.935       4288.065     2    ATE 5.A INC  \n",
       "2  6635.84      -6851.040      19692.320     9      SUP. COMP  "
      ]
     },
     "execution_count": 21,
     "metadata": {},
     "output_type": "execute_result"
    }
   ],
   "source": [
    "df.head(3)"
   ]
  },
  {
   "cell_type": "code",
   "execution_count": 22,
   "id": "1c025728-2d90-4175-9d95-0711c34b5fb9",
   "metadata": {
    "tags": []
   },
   "outputs": [],
   "source": [
    "for a, b in [( 'ANALFABETO', 'Analfabeto'),\n",
    "             (  'ATE 5.A INC', 'Até 5ª incompleto'),\n",
    "             (  '5.A CO FUND', '5ª completo'),\n",
    "             (  '6. A 9. FUND','6ª a 9ª incompleto'),\n",
    "             (  'FUND COMPL', 'Fundamental completo'),\n",
    "             (  'MEDIO INCOMP','Médio incompleto'),\n",
    "             (  'MEDIO COMPL', 'Médio completo'),\n",
    "             (  'SUP. INCOMP', 'Superior incompleto'),\n",
    "             (  'SUP. COMP',  'Superior completo'),\n",
    "             (  'MESTRADO', 'Mestrado'),\n",
    "             (  'DOUTORADO', 'Doutorado')]:\n",
    "    df['grau_instrucao'] = df['grau_instrucao'].str.replace(a, b)"
   ]
  },
  {
   "cell_type": "code",
   "execution_count": 23,
   "id": "b8363c35-441d-4242-a967-8a0af68440eb",
   "metadata": {
    "tags": []
   },
   "outputs": [],
   "source": [
    "df['grau_instrucao'] = pd.Categorical(df['grau_instrucao'], \n",
    "                                       categories=[ \n",
    "                                           'Analfabeto', \n",
    "                                           'Até 5ª incompleto',\n",
    "                                           '5ª completo', \n",
    "                                           '6ª a 9ª incompleto',\n",
    "                                           'Fundamental completo',\n",
    "                                           'Médio incompleto',\n",
    "                                           'Médio completo',\n",
    "                                           'Superior incompleto',\n",
    "                                           'Superior completo', \n",
    "                                           'Mestrado',\n",
    "                                           'Doutorado'], \n",
    "                                       ordered=True)"
   ]
  },
  {
   "cell_type": "code",
   "execution_count": 24,
   "id": "bc1d25f1-d11d-4685-8c8a-06c4f18fa67f",
   "metadata": {
    "tags": []
   },
   "outputs": [],
   "source": [
    "df['lower_whisker'] = np.where(df['lower_whisker'] < df['min_value'], \n",
    "                               df['min_value'],\n",
    "                               df['lower_whisker'])"
   ]
  },
  {
   "cell_type": "code",
   "execution_count": 25,
   "id": "90bc2afc-5570-4cf3-84a1-cef724c549d0",
   "metadata": {
    "tags": []
   },
   "outputs": [],
   "source": [
    "def format_thousands(x, pos):\n",
    "    return 'R$ {:,.0f}'.format(x).replace(',', '.')"
   ]
  },
  {
   "cell_type": "code",
   "execution_count": 26,
   "id": "734a0957-b7d0-45dd-bb09-eeda20db13fc",
   "metadata": {
    "tags": []
   },
   "outputs": [
    {
     "name": "stdout",
     "output_type": "stream",
     "text": [
      "['Solarize_Light2', '_classic_test_patch', '_mpl-gallery', '_mpl-gallery-nogrid', 'bmh', 'classic', 'dark_background', 'fast', 'fivethirtyeight', 'ggplot', 'grayscale', 'seaborn-v0_8', 'seaborn-v0_8-bright', 'seaborn-v0_8-colorblind', 'seaborn-v0_8-dark', 'seaborn-v0_8-dark-palette', 'seaborn-v0_8-darkgrid', 'seaborn-v0_8-deep', 'seaborn-v0_8-muted', 'seaborn-v0_8-notebook', 'seaborn-v0_8-paper', 'seaborn-v0_8-pastel', 'seaborn-v0_8-poster', 'seaborn-v0_8-talk', 'seaborn-v0_8-ticks', 'seaborn-v0_8-white', 'seaborn-v0_8-whitegrid', 'tableau-colorblind10']\n"
     ]
    }
   ],
   "source": [
    "print(plt.style.available)"
   ]
  },
  {
   "cell_type": "code",
   "execution_count": null,
   "id": "0324cc6f-1b74-4b7d-8bfc-a1aad674fdf6",
   "metadata": {},
   "outputs": [],
   "source": []
  },
  {
   "cell_type": "code",
   "execution_count": 29,
   "id": "1ce3621b-1068-4940-8dbe-ea2f2dc7c0e1",
   "metadata": {
    "tags": []
   },
   "outputs": [],
   "source": [
    "#plt.style.use('seaborn')\n",
    "plt.style.use('seaborn-v0_8-colorblind')"
   ]
  },
  {
   "cell_type": "code",
   "execution_count": 30,
   "id": "7a395ddf-9b3f-45f6-9056-1218ee2105c0",
   "metadata": {
    "tags": []
   },
   "outputs": [],
   "source": [
    "plt.rc('figure', figsize=(7,4), titlesize=15)\n",
    "plt.rc('lines', linewidth=2)\n",
    "plt.rc('axes', labelsize=8, titlesize=8, titleweight='bold', titley=1.05, labelpad=6) # vai mudar do x e do y\n",
    "plt.rc('xtick', labelsize=7)\n",
    "plt.rc('ytick', labelsize=8)\n",
    "plt.rc('legend', loc='lower center', fontsize=8, frameon=True, framealpha=0.8)"
   ]
  },
  {
   "cell_type": "code",
   "execution_count": null,
   "id": "3568a23e-236b-499b-9faf-fc3b6bd2efa6",
   "metadata": {
    "tags": []
   },
   "outputs": [],
   "source": []
  },
  {
   "cell_type": "code",
   "execution_count": 31,
   "id": "80f9d247-26be-49b8-ac49-4c7ea3fb8815",
   "metadata": {
    "tags": []
   },
   "outputs": [
    {
     "data": {
      "image/png": "[encoded data removed]",
      "text/plain": [
       "<Figure size 700x400 with 1 Axes>"
      ]
     },
     "metadata": {},
     "output_type": "display_data"
    }
   ],
   "source": [
    "grau_instrucao_categories = df['grau_instrucao'].cat.categories\n",
    "fig, ax = plt.subplots()\n",
    "alpha=0.8\n",
    "for i, cat in enumerate(grau_instrucao_categories):\n",
    "    data = df[df['grau_instrucao'] == cat][\n",
    "        ['lower_whisker', 'Q1', 'median', 'Q3', 'upper_whisker']].values[0]\n",
    "    ax.boxplot(data, positions = [i], \n",
    "               patch_artist=True,\n",
    "               widths= 0.3,\n",
    "               boxprops=dict(color='black', alpha=alpha),\n",
    "               whiskerprops=dict(color='black', alpha=alpha),\n",
    "               capprops=dict(color='black', alpha=alpha),\n",
    "               medianprops=dict(color='red', alpha=alpha))\n",
    "\n",
    "ylim_inf = ax.get_ylim()[0]\n",
    "ylim_sup = ax.get_ylim()[1]\n",
    "\n",
    "y_value = 1212  # salário minimo\n",
    "ax.hlines(y=y_value, xmin=-0.5, xmax=len(grau_instrucao_categories)-1, color='blue', linestyle='--', lw=0.5, alpha=alpha)\n",
    "\n",
    "ax.text(-0.6, 1800, 'Salário Mínimo \\n em 2022 (R$ 1.212)',\n",
    "        va='center', ha='right', backgroundcolor='None', fontsize=7, color='blue',alpha=alpha)\n",
    "\n",
    "\n",
    "x_value = 7.5\n",
    "ax.axvline(x=x_value, color='green', linestyle='--', lw = 0.5, ymin = ylim_inf, ymax = ylim_sup)\n",
    "\n",
    "ax.fill_between([-0.5, x_value],\n",
    "                ylim_inf, \n",
    "                ylim_sup*1.1,\n",
    "                facecolor='lightblue', alpha=0.3)\n",
    "ax.fill_between([x_value, len(grau_instrucao_categories)-0.5], \n",
    "                ylim_inf,\n",
    "                ylim_sup*1.1, \n",
    "                facecolor='lightgreen', alpha=0.3)\n",
    "\n",
    "# caixinhas de texto\n",
    "y_max = ylim_sup*1.05\n",
    "left_label = 'Sem Faculdade'\n",
    "right_label = 'Com Faculdade'\n",
    "left_x_center = (x_value - (-0.5)) / 2 - 0.5\n",
    "right_x_center = (len(grau_instrucao_categories)-0.5 + x_value) / 2 \n",
    "ax.text(left_x_center, y_max, left_label, va='top', ha='center', fontsize=12, backgroundcolor='white')\n",
    "ax.text(right_x_center, y_max, right_label, va='top', ha='center', fontsize=12, backgroundcolor='white')\n",
    "\n",
    "ax.set_ylim(ylim_inf, ylim_sup*1.1)\n",
    "ax.set_xticks(range(len(grau_instrucao_categories)))\n",
    "ax.set_xticklabels(grau_instrucao_categories)\n",
    "ax.xaxis.set_tick_params(rotation=45)\n",
    "ax.yaxis.set_major_formatter(FuncFormatter(format_thousands))\n",
    "ax.set_title('Distribuição da remuneração \\n por grau de instrução \\n Fonte: RAIS (2022) \\n Elaboração: Ramon Torres', loc='center')\n",
    "plt.show()"
   ]
  },
  {
   "cell_type": "code",
   "execution_count": 93,
   "id": "b1349a2b-1bb5-44e8-ac51-ffc3f3f2e5ca",
   "metadata": {
    "tags": []
   },
   "outputs": [],
   "source": [
    "fig.savefig(fr\"boxplot_salario_educacao_ramon_torres.png\", \n",
    "            dpi=200,  bbox_inches=\"tight\"\n",
    ")"
   ]
  },
  {
   "cell_type": "code",
   "execution_count": null,
   "id": "5c820c72-ab9b-4267-be50-1fc63ad70ea1",
   "metadata": {},
   "outputs": [],
   "source": []
  },
  {
   "cell_type": "code",
   "execution_count": null,
   "id": "52e5f33b-4b73-4a81-9518-6a6a700622a3",
   "metadata": {},
   "outputs": [],
   "source": []
  },
  {
   "cell_type": "code",
   "execution_count": null,
   "id": "5ce2039a-d3fb-481a-80fe-abcb8e4d9a71",
   "metadata": {},
   "outputs": [],
   "source": []
  }
 ],
 "metadata": {
  "kernelspec": {
   "display_name": "Python 3 (ipykernel)",
   "language": "python",
   "name": "python3"
  },
  "language_info": {
   "codemirror_mode": {
    "name": "ipython",
    "version": 3
   },
   "file_extension": ".py",
   "mimetype": "text/x-python",
   "name": "python",
   "nbconvert_exporter": "python",
   "pygments_lexer": "ipython3",
   "version": "3.9.10"
  }
 },
 "nbformat": 4,
 "nbformat_minor": 5
}
